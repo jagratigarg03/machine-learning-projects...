{
  "nbformat": 4,
  "nbformat_minor": 0,
  "metadata": {
    "colab": {
      "name": "clothing outfit prediction.ipynb",
      "provenance": []
    },
    "kernelspec": {
      "name": "python3",
      "display_name": "Python 3"
    },
    "language_info": {
      "name": "python"
    }
  },
  "cells": [
    {
      "cell_type": "markdown",
      "source": [
        " here we use libraries like numpy,matplotlib,keras\n",
        "this model is made by the use of deep learning(ANN---SUPERVISED LEARNING\n",
        ")\n"
      ],
      "metadata": {
        "id": "_kzIF2wN8h9n"
      }
    },
    {
      "cell_type": "code",
      "execution_count": 2,
      "metadata": {
        "id": "3affIZFZsP76"
      },
      "outputs": [],
      "source": [
        "import numpy as np\n",
        "import matplotlib.pyplot as plt\n",
        "import keras\n",
        "from keras.models import Sequential\n",
        "from keras.layers import Flatten,Dense\n",
        "from keras.datasets import fashion_mnist\n",
        "%matplotlib inline"
      ]
    },
    {
      "cell_type": "markdown",
      "source": [
        "\n",
        "\n",
        "*   numpy is used for mathematical operation like arange,array element calculate ,multiply and many more\n",
        "\n",
        "*   matplotlib is a library for the graphical representation of data like in bar chart,pie chart,histograph etc.\n",
        "\n",
        "*   keras is a library for the deep learning model.\n",
        "*   sequential in keras is called CNN(covulated neural network). It takes one input and its correspondence one output to form a entire model.\n",
        "\n",
        "*   Flatten layer is used for convert multidimensional array to 1- dimensional array.\n",
        "*   Dense layer is used to classify image based on output . \n",
        "\n",
        "\n",
        "\n",
        "\n",
        "\n"
      ],
      "metadata": {
        "id": "lf8qfsVf8urm"
      }
    },
    {
      "cell_type": "code",
      "source": [
        "fashion_mnist.load_data()"
      ],
      "metadata": {
        "colab": {
          "base_uri": "https://localhost:8080/"
        },
        "id": "FkRaal-LSXdh",
        "outputId": "dd5bad0f-92a2-43a7-d032-b4faf7c8e460"
      },
      "execution_count": 8,
      "outputs": [
        {
          "output_type": "stream",
          "name": "stdout",
          "text": [
            "Downloading data from https://storage.googleapis.com/tensorflow/tf-keras-datasets/train-labels-idx1-ubyte.gz\n",
            "32768/29515 [=================================] - 0s 0us/step\n",
            "40960/29515 [=========================================] - 0s 0us/step\n",
            "Downloading data from https://storage.googleapis.com/tensorflow/tf-keras-datasets/train-images-idx3-ubyte.gz\n",
            "26427392/26421880 [==============================] - 0s 0us/step\n",
            "26435584/26421880 [==============================] - 0s 0us/step\n",
            "Downloading data from https://storage.googleapis.com/tensorflow/tf-keras-datasets/t10k-labels-idx1-ubyte.gz\n",
            "16384/5148 [===============================================================================================] - 0s 0us/step\n",
            "Downloading data from https://storage.googleapis.com/tensorflow/tf-keras-datasets/t10k-images-idx3-ubyte.gz\n",
            "4423680/4422102 [==============================] - 0s 0us/step\n",
            "4431872/4422102 [==============================] - 0s 0us/step\n"
          ]
        },
        {
          "output_type": "execute_result",
          "data": {
            "text/plain": [
              "((array([[[0, 0, 0, ..., 0, 0, 0],\n",
              "          [0, 0, 0, ..., 0, 0, 0],\n",
              "          [0, 0, 0, ..., 0, 0, 0],\n",
              "          ...,\n",
              "          [0, 0, 0, ..., 0, 0, 0],\n",
              "          [0, 0, 0, ..., 0, 0, 0],\n",
              "          [0, 0, 0, ..., 0, 0, 0]],\n",
              "  \n",
              "         [[0, 0, 0, ..., 0, 0, 0],\n",
              "          [0, 0, 0, ..., 0, 0, 0],\n",
              "          [0, 0, 0, ..., 0, 0, 0],\n",
              "          ...,\n",
              "          [0, 0, 0, ..., 0, 0, 0],\n",
              "          [0, 0, 0, ..., 0, 0, 0],\n",
              "          [0, 0, 0, ..., 0, 0, 0]],\n",
              "  \n",
              "         [[0, 0, 0, ..., 0, 0, 0],\n",
              "          [0, 0, 0, ..., 0, 0, 0],\n",
              "          [0, 0, 0, ..., 0, 0, 0],\n",
              "          ...,\n",
              "          [0, 0, 0, ..., 0, 0, 0],\n",
              "          [0, 0, 0, ..., 0, 0, 0],\n",
              "          [0, 0, 0, ..., 0, 0, 0]],\n",
              "  \n",
              "         ...,\n",
              "  \n",
              "         [[0, 0, 0, ..., 0, 0, 0],\n",
              "          [0, 0, 0, ..., 0, 0, 0],\n",
              "          [0, 0, 0, ..., 0, 0, 0],\n",
              "          ...,\n",
              "          [0, 0, 0, ..., 0, 0, 0],\n",
              "          [0, 0, 0, ..., 0, 0, 0],\n",
              "          [0, 0, 0, ..., 0, 0, 0]],\n",
              "  \n",
              "         [[0, 0, 0, ..., 0, 0, 0],\n",
              "          [0, 0, 0, ..., 0, 0, 0],\n",
              "          [0, 0, 0, ..., 0, 0, 0],\n",
              "          ...,\n",
              "          [0, 0, 0, ..., 0, 0, 0],\n",
              "          [0, 0, 0, ..., 0, 0, 0],\n",
              "          [0, 0, 0, ..., 0, 0, 0]],\n",
              "  \n",
              "         [[0, 0, 0, ..., 0, 0, 0],\n",
              "          [0, 0, 0, ..., 0, 0, 0],\n",
              "          [0, 0, 0, ..., 0, 0, 0],\n",
              "          ...,\n",
              "          [0, 0, 0, ..., 0, 0, 0],\n",
              "          [0, 0, 0, ..., 0, 0, 0],\n",
              "          [0, 0, 0, ..., 0, 0, 0]]], dtype=uint8),\n",
              "  array([9, 0, 0, ..., 3, 0, 5], dtype=uint8)),\n",
              " (array([[[0, 0, 0, ..., 0, 0, 0],\n",
              "          [0, 0, 0, ..., 0, 0, 0],\n",
              "          [0, 0, 0, ..., 0, 0, 0],\n",
              "          ...,\n",
              "          [0, 0, 0, ..., 0, 0, 0],\n",
              "          [0, 0, 0, ..., 0, 0, 0],\n",
              "          [0, 0, 0, ..., 0, 0, 0]],\n",
              "  \n",
              "         [[0, 0, 0, ..., 0, 0, 0],\n",
              "          [0, 0, 0, ..., 0, 0, 0],\n",
              "          [0, 0, 0, ..., 0, 0, 0],\n",
              "          ...,\n",
              "          [0, 0, 0, ..., 0, 0, 0],\n",
              "          [0, 0, 0, ..., 0, 0, 0],\n",
              "          [0, 0, 0, ..., 0, 0, 0]],\n",
              "  \n",
              "         [[0, 0, 0, ..., 0, 0, 0],\n",
              "          [0, 0, 0, ..., 0, 0, 0],\n",
              "          [0, 0, 0, ..., 0, 0, 0],\n",
              "          ...,\n",
              "          [0, 0, 0, ..., 0, 0, 0],\n",
              "          [0, 0, 0, ..., 0, 0, 0],\n",
              "          [0, 0, 0, ..., 0, 0, 0]],\n",
              "  \n",
              "         ...,\n",
              "  \n",
              "         [[0, 0, 0, ..., 0, 0, 0],\n",
              "          [0, 0, 0, ..., 0, 0, 0],\n",
              "          [0, 0, 0, ..., 0, 0, 0],\n",
              "          ...,\n",
              "          [0, 0, 0, ..., 0, 0, 0],\n",
              "          [0, 0, 0, ..., 0, 0, 0],\n",
              "          [0, 0, 0, ..., 0, 0, 0]],\n",
              "  \n",
              "         [[0, 0, 0, ..., 0, 0, 0],\n",
              "          [0, 0, 0, ..., 0, 0, 0],\n",
              "          [0, 0, 0, ..., 0, 0, 0],\n",
              "          ...,\n",
              "          [0, 0, 0, ..., 0, 0, 0],\n",
              "          [0, 0, 0, ..., 0, 0, 0],\n",
              "          [0, 0, 0, ..., 0, 0, 0]],\n",
              "  \n",
              "         [[0, 0, 0, ..., 0, 0, 0],\n",
              "          [0, 0, 0, ..., 0, 0, 0],\n",
              "          [0, 0, 0, ..., 0, 0, 0],\n",
              "          ...,\n",
              "          [0, 0, 0, ..., 0, 0, 0],\n",
              "          [0, 0, 0, ..., 0, 0, 0],\n",
              "          [0, 0, 0, ..., 0, 0, 0]]], dtype=uint8),\n",
              "  array([9, 2, 1, ..., 8, 1, 5], dtype=uint8)))"
            ]
          },
          "metadata": {},
          "execution_count": 8
        }
      ]
    },
    {
      "cell_type": "markdown",
      "source": [
        "in fashion_mnist has 70,000 images 28x28 grayscale images.it has also class labels.\n",
        "the labels are....\n",
        "\n",
        "0 tshirt/top\n",
        "\n",
        "1 trouser\n",
        "\n",
        "2 pullover\n",
        "\n",
        "3 dress\n",
        "\n",
        "4 coat\n",
        "\n",
        "5 sandal\n",
        "\n",
        "6 shirt\n",
        "\n",
        "7 sneaker\n",
        "\n",
        "8 bag\n",
        "\n",
        "9 ankle boot\n"
      ],
      "metadata": {
        "id": "WuCV53qEVGcu"
      }
    },
    {
      "cell_type": "code",
      "source": [
        "(x_train, x_labels),(y_test,y_labels)=fashion_mnist.load_data()\n",
        "plt.imshow(x_train[1])\n",
        "plt.title('class:{}'.format(x_labels[1]))\n",
        "plt.figure()"
      ],
      "metadata": {
        "colab": {
          "base_uri": "https://localhost:8080/",
          "height": 316
        },
        "id": "wtVdXAKBs4WK",
        "outputId": "4ae8ada8-7179-4d59-a161-1d368f45c906"
      },
      "execution_count": null,
      "outputs": [
        {
          "output_type": "execute_result",
          "data": {
            "text/plain": [
              "<Figure size 432x288 with 0 Axes>"
            ]
          },
          "metadata": {},
          "execution_count": 7
        },
        {
          "output_type": "display_data",
          "data": {
            "text/plain": [
              "<Figure size 432x288 with 1 Axes>"
            ],
            "image/png": "[encoded data removed]"
          },
          "metadata": {
            "needs_background": "light"
          }
        },
        {
          "output_type": "display_data",
          "data": {
            "text/plain": [
              "<Figure size 432x288 with 0 Axes>"
            ]
          },
          "metadata": {}
        }
      ]
    },
    {
      "cell_type": "markdown",
      "source": [
        "In above, we use data for training \"fashion_mnist\" from keras.dataset. "
      ],
      "metadata": {
        "id": "1Z0lbDtJAirh"
      }
    },
    {
      "cell_type": "code",
      "source": [
        "model=Sequential()\n",
        "model.add(Flatten(input_shape=((28,28))))\n",
        "model.add(Dense(200,activation=\"relu\"))\n",
        "model.add(Dense(10,activation=\"softmax\"))"
      ],
      "metadata": {
        "id": "g3tHbJmcXPqL"
      },
      "execution_count": null,
      "outputs": []
    },
    {
      "cell_type": "code",
      "source": [
        "model.compile(optimizer = \"adam\", loss=\"sparse_categorical_crossentropy\", metrics=[\"accuracy\"])\n",
        "model.fit(x_train,x_labels,epochs=20)"
      ],
      "metadata": {
        "colab": {
          "base_uri": "https://localhost:8080/"
        },
        "id": "QZ0CopBFYTo5",
        "outputId": "ac8ae7d2-e951-42f5-b42f-62ea6c44b2b8"
      },
      "execution_count": null,
      "outputs": [
        {
          "output_type": "stream",
          "name": "stdout",
          "text": [
            "Epoch 1/20\n",
            "1875/1875 [==============================] - 7s 3ms/step - loss: 0.4269 - accuracy: 0.8610\n",
            "Epoch 2/20\n",
            "1875/1875 [==============================] - 6s 3ms/step - loss: 0.4269 - accuracy: 0.8619\n",
            "Epoch 3/20\n",
            "1875/1875 [==============================] - 7s 4ms/step - loss: 0.4209 - accuracy: 0.8605\n",
            "Epoch 4/20\n",
            "1875/1875 [==============================] - 6s 3ms/step - loss: 0.4165 - accuracy: 0.8629\n",
            "Epoch 5/20\n",
            "1875/1875 [==============================] - 7s 4ms/step - loss: 0.4167 - accuracy: 0.8638\n",
            "Epoch 6/20\n",
            "1875/1875 [==============================] - 7s 4ms/step - loss: 0.4224 - accuracy: 0.8632\n",
            "Epoch 7/20\n",
            "1875/1875 [==============================] - 7s 4ms/step - loss: 0.4147 - accuracy: 0.8639\n",
            "Epoch 8/20\n",
            "1875/1875 [==============================] - 7s 4ms/step - loss: 0.4135 - accuracy: 0.8632\n",
            "Epoch 9/20\n",
            "1875/1875 [==============================] - 7s 4ms/step - loss: 0.4254 - accuracy: 0.8636\n",
            "Epoch 10/20\n",
            "1875/1875 [==============================] - 6s 3ms/step - loss: 0.4166 - accuracy: 0.8644\n",
            "Epoch 11/20\n",
            "1875/1875 [==============================] - 7s 4ms/step - loss: 0.4102 - accuracy: 0.8669\n",
            "Epoch 12/20\n",
            "1875/1875 [==============================] - 7s 4ms/step - loss: 0.4160 - accuracy: 0.8633\n",
            "Epoch 13/20\n",
            "1875/1875 [==============================] - 6s 3ms/step - loss: 0.4185 - accuracy: 0.8632\n",
            "Epoch 14/20\n",
            "1875/1875 [==============================] - 7s 4ms/step - loss: 0.4131 - accuracy: 0.8648\n",
            "Epoch 15/20\n",
            "1875/1875 [==============================] - 6s 3ms/step - loss: 0.4099 - accuracy: 0.8664\n",
            "Epoch 16/20\n",
            "1875/1875 [==============================] - 7s 4ms/step - loss: 0.4106 - accuracy: 0.8655\n",
            "Epoch 17/20\n",
            "1875/1875 [==============================] - 6s 3ms/step - loss: 0.4083 - accuracy: 0.8652\n",
            "Epoch 18/20\n",
            "1875/1875 [==============================] - 7s 4ms/step - loss: 0.4011 - accuracy: 0.8659\n",
            "Epoch 19/20\n",
            "1875/1875 [==============================] - 6s 3ms/step - loss: 0.4182 - accuracy: 0.8630\n",
            "Epoch 20/20\n",
            "1875/1875 [==============================] - 6s 3ms/step - loss: 0.4097 - accuracy: 0.8657\n"
          ]
        },
        {
          "output_type": "execute_result",
          "data": {
            "text/plain": [
              "<keras.callbacks.History at 0x7fc45b1edcd0>"
            ]
          },
          "metadata": {},
          "execution_count": 21
        }
      ]
    },
    {
      "cell_type": "markdown",
      "source": [
        "in above, using \"fit\" function we try to train our model using training data."
      ],
      "metadata": {
        "id": "UpEp8h0Z3JeC"
      }
    },
    {
      "cell_type": "code",
      "source": [
        "model.evaluate(y_test,y_labels)"
      ],
      "metadata": {
        "colab": {
          "base_uri": "https://localhost:8080/"
        },
        "id": "pdl_0UdcbIii",
        "outputId": "ebf89faf-b0ce-45c8-ef17-c7e634cf6b16"
      },
      "execution_count": null,
      "outputs": [
        {
          "output_type": "stream",
          "name": "stdout",
          "text": [
            "313/313 [==============================] - 1s 2ms/step - loss: 0.7450 - accuracy: 0.8298\n"
          ]
        },
        {
          "output_type": "execute_result",
          "data": {
            "text/plain": [
              "[0.7449872493743896, 0.829800009727478]"
            ]
          },
          "metadata": {},
          "execution_count": 22
        }
      ]
    },
    {
      "cell_type": "markdown",
      "source": [
        "using \"evaluate\" function we evaluate the model like we test the model using testing data and also find accuracy."
      ],
      "metadata": {
        "id": "EDddBwCS3o17"
      }
    },
    {
      "cell_type": "code",
      "source": [
        "x=model.predict(y_test[:20])\n",
        "print(x)"
      ],
      "metadata": {
        "colab": {
          "base_uri": "https://localhost:8080/"
        },
        "id": "FUlcKverbId9",
        "outputId": "4a2a9e86-7601-4071-bbe9-afada7958563"
      },
      "execution_count": null,
      "outputs": [
        {
          "output_type": "stream",
          "name": "stdout",
          "text": [
            "[[0.0000000e+00 7.4749733e-31 0.0000000e+00 0.0000000e+00 0.0000000e+00\n",
            "  1.6665792e-04 0.0000000e+00 2.8602762e-02 0.0000000e+00 9.7123057e-01]\n",
            " [1.9060223e-03 8.6238094e-07 9.8363394e-01 3.4480752e-05 2.4811905e-03\n",
            "  0.0000000e+00 1.1943564e-02 0.0000000e+00 1.6833905e-08 0.0000000e+00]\n",
            " [0.0000000e+00 1.0000000e+00 0.0000000e+00 3.2222885e-26 0.0000000e+00\n",
            "  0.0000000e+00 0.0000000e+00 0.0000000e+00 0.0000000e+00 0.0000000e+00]\n",
            " [0.0000000e+00 1.0000000e+00 0.0000000e+00 8.0622402e-17 3.9242223e-38\n",
            "  0.0000000e+00 4.4287221e-27 0.0000000e+00 0.0000000e+00 0.0000000e+00]\n",
            " [3.9384496e-01 2.2349246e-03 4.8746239e-02 5.2822325e-02 2.3405749e-02\n",
            "  2.2187082e-06 4.6986973e-01 0.0000000e+00 9.0738172e-03 1.3151101e-12]\n",
            " [0.0000000e+00 1.0000000e+00 0.0000000e+00 3.5031982e-17 3.6011152e-35\n",
            "  0.0000000e+00 4.7571049e-22 0.0000000e+00 8.2995684e-37 0.0000000e+00]\n",
            " [5.8084793e-06 1.6728659e-04 1.6295403e-02 1.7082772e-03 9.6691650e-01\n",
            "  0.0000000e+00 1.3899968e-02 0.0000000e+00 1.0067567e-03 0.0000000e+00]\n",
            " [1.1037549e-04 0.0000000e+00 2.7371667e-07 1.2802394e-07 8.7733933e-04\n",
            "  0.0000000e+00 9.9901187e-01 0.0000000e+00 9.6996449e-17 0.0000000e+00]\n",
            " [0.0000000e+00 0.0000000e+00 0.0000000e+00 0.0000000e+00 0.0000000e+00\n",
            "  1.0000000e+00 0.0000000e+00 0.0000000e+00 0.0000000e+00 0.0000000e+00]\n",
            " [0.0000000e+00 0.0000000e+00 0.0000000e+00 0.0000000e+00 0.0000000e+00\n",
            "  8.4797335e-32 0.0000000e+00 1.0000000e+00 0.0000000e+00 0.0000000e+00]\n",
            " [7.7734380e-03 1.6237345e-03 1.6960308e-01 4.0654033e-02 4.6260172e-01\n",
            "  7.0699256e-21 2.8817651e-01 2.1437119e-31 2.9567385e-02 2.8094654e-29]\n",
            " [0.0000000e+00 0.0000000e+00 0.0000000e+00 0.0000000e+00 0.0000000e+00\n",
            "  9.9999988e-01 0.0000000e+00 2.9697963e-11 0.0000000e+00 7.1824687e-08]\n",
            " [0.0000000e+00 0.0000000e+00 0.0000000e+00 0.0000000e+00 0.0000000e+00\n",
            "  5.8227511e-06 0.0000000e+00 9.9999416e-01 0.0000000e+00 0.0000000e+00]\n",
            " [1.0985921e-02 3.4846089e-04 5.3916915e-06 9.8846847e-01 1.6530161e-04\n",
            "  0.0000000e+00 2.6485435e-05 0.0000000e+00 2.1126141e-09 0.0000000e+00]\n",
            " [5.4702029e-04 8.2289311e-04 8.3581917e-02 1.4382551e-02 7.8330559e-01\n",
            "  4.7028955e-32 1.0774525e-01 0.0000000e+00 9.6147666e-03 0.0000000e+00]\n",
            " [0.0000000e+00 1.0000000e+00 0.0000000e+00 3.8553071e-12 4.7404421e-28\n",
            "  0.0000000e+00 1.4028395e-20 0.0000000e+00 4.5063409e-30 0.0000000e+00]\n",
            " [8.7528123e-04 1.3829670e-07 9.9399346e-01 5.8887185e-06 6.9557957e-04\n",
            "  0.0000000e+00 4.4295778e-03 0.0000000e+00 6.7084593e-10 0.0000000e+00]\n",
            " [4.1651625e-02 5.7381651e-05 8.0539083e-01 2.5506315e-03 1.8241066e-02\n",
            "  2.3425308e-26 1.3206494e-01 0.0000000e+00 4.3469870e-05 0.0000000e+00]\n",
            " [1.8341268e-07 3.4921510e-11 3.1326184e-08 1.2765781e-08 5.2882796e-13\n",
            "  2.1810916e-05 3.4064495e-08 1.3786788e-08 9.9997795e-01 7.2076228e-10]\n",
            " [9.6894014e-01 1.1001766e-03 1.5489510e-06 4.8748811e-04 5.9913928e-06\n",
            "  8.4190034e-31 2.9464711e-02 0.0000000e+00 6.3914762e-09 0.0000000e+00]]\n"
          ]
        }
      ]
    },
    {
      "cell_type": "markdown",
      "source": [
        "now we can predict from model.our model is ready"
      ],
      "metadata": {
        "id": "dn0by4FT9tAT"
      }
    },
    {
      "cell_type": "code",
      "source": [
        "predict=np.argmax(x,axis=1)\n",
        "print(predict)\n",
        "print(y_labels[:20])"
      ],
      "metadata": {
        "colab": {
          "base_uri": "https://localhost:8080/"
        },
        "id": "srJ-8wQkbjMc",
        "outputId": "16be0151-4bc1-4868-f5fb-e96ae9410137"
      },
      "execution_count": null,
      "outputs": [
        {
          "output_type": "stream",
          "name": "stdout",
          "text": [
            "[9 2 1 1 6 1 4 6 5 7 4 5 7 3 4 1 2 2 8 0]\n",
            "[9 2 1 1 6 1 4 6 5 7 4 5 7 3 4 1 2 4 8 0]\n"
          ]
        }
      ]
    },
    {
      "cell_type": "markdown",
      "source": [
        "print the predicted data and also print labels"
      ],
      "metadata": {
        "id": "DjT3JAiW99q0"
      }
    },
    {
      "cell_type": "code",
      "source": [
        "for i in range(10):\n",
        "  plt.imshow(y_test[i], cmap=\"binary\")\n",
        "  plt.title('original: {},predicted: {}'.format(y_labels[i],predict[i]))\n",
        "  plt.axis(\"off\")\n",
        "  plt.figure()"
      ],
      "metadata": {
        "colab": {
          "base_uri": "https://localhost:8080/",
          "height": 1000
        },
        "id": "jJbxUAPKe7fw",
        "outputId": "072f6749-019a-4ca0-9bf8-f226d795ba89"
      },
      "execution_count": null,
      "outputs": [
        {
          "output_type": "display_data",
          "data": {
            "text/plain": [
              "<Figure size 432x288 with 1 Axes>"
            ],
            "image/png": "[encoded data removed]"
          },
          "metadata": {
            "needs_background": "light"
          }
        },
        {
          "output_type": "display_data",
          "data": {
            "text/plain": [
              "<Figure size 432x288 with 1 Axes>"
            ],
            "image/png": "[encoded data removed]"
          },
          "metadata": {
            "needs_background": "light"
          }
        },
        {
          "output_type": "display_data",
          "data": {
            "text/plain": [
              "<Figure size 432x288 with 1 Axes>"
            ],
            "image/png": "[encoded data removed]"
          },
          "metadata": {
            "needs_background": "light"
          }
        },
        {
          "output_type": "display_data",
          "data": {
            "text/plain": [
              "<Figure size 432x288 with 1 Axes>"
            ],
            "image/png": "[encoded data removed]"
          },
          "metadata": {
            "needs_background": "light"
          }
        },
        {
          "output_type": "display_data",
          "data": {
            "text/plain": [
              "<Figure size 432x288 with 1 Axes>"
            ],
            "image/png": "[encoded data removed]"
          },
          "metadata": {
            "needs_background": "light"
          }
        },
        {
          "output_type": "display_data",
          "data": {
            "text/plain": [
              "<Figure size 432x288 with 1 Axes>"
            ],
            "image/png": "[encoded data removed]"
          },
          "metadata": {
            "needs_background": "light"
          }
        },
        {
          "output_type": "display_data",
          "data": {
            "text/plain": [
              "<Figure size 432x288 with 1 Axes>"
            ],
            "image/png": "[encoded data removed]"
          },
          "metadata": {
            "needs_background": "light"
          }
        },
        {
          "output_type": "display_data",
          "data": {
            "text/plain": [
              "<Figure size 432x288 with 1 Axes>"
            ],
            "image/png": "[encoded data removed]"
          },
          "metadata": {
            "needs_background": "light"
          }
        },
        {
          "output_type": "display_data",
          "data": {
            "text/plain": [
              "<Figure size 432x288 with 1 Axes>"
            ],
            "image/png": "[encoded data removed]"
          },
          "metadata": {
            "needs_background": "light"
          }
        },
        {
          "output_type": "display_data",
          "data": {
            "text/plain": [
              "<Figure size 432x288 with 1 Axes>"
            ],
            "image/png": "[encoded data removed]"
          },
          "metadata": {
            "needs_background": "light"
          }
        },
        {
          "output_type": "display_data",
          "data": {
            "text/plain": [
              "<Figure size 432x288 with 0 Axes>"
            ]
          },
          "metadata": {}
        }
      ]
    },
    {
      "cell_type": "markdown",
      "source": [
        "show the data in visualise form\n"
      ],
      "metadata": {
        "id": "MSrgW5XrAPwF"
      }
    }
  ]
}